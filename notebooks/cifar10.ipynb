{
 "cells": [
  {
   "cell_type": "code",
   "execution_count": 1,
   "id": "initial_id",
   "metadata": {
    "collapsed": true,
    "ExecuteTime": {
     "end_time": "2024-03-20T13:11:22.116346300Z",
     "start_time": "2024-03-20T13:11:22.074311200Z"
    }
   },
   "outputs": [],
   "source": [
    "%load_ext autoreload\n",
    "%autoreload 2"
   ]
  },
  {
   "cell_type": "code",
   "execution_count": 10,
   "outputs": [],
   "source": [
    "import torch\n",
    "from torchvision import transforms\n",
    "from torch.utils.data import DataLoader"
   ],
   "metadata": {
    "collapsed": false,
    "ExecuteTime": {
     "end_time": "2024-03-20T13:25:36.786296900Z",
     "start_time": "2024-03-20T13:25:36.665152400Z"
    }
   },
   "id": "1d6a91d98378df66"
  },
  {
   "cell_type": "code",
   "execution_count": 3,
   "outputs": [
    {
     "data": {
      "text/plain": "'cuda'"
     },
     "execution_count": 3,
     "metadata": {},
     "output_type": "execute_result"
    }
   ],
   "source": [
    "device = \"cuda\" if torch.cuda.is_available() else \"cpu\"\n",
    "device"
   ],
   "metadata": {
    "collapsed": false,
    "ExecuteTime": {
     "end_time": "2024-03-20T13:14:00.790153Z",
     "start_time": "2024-03-20T13:14:00.592634Z"
    }
   },
   "id": "ef46e68ac3b8b7c3"
  },
  {
   "cell_type": "code",
   "execution_count": 4,
   "outputs": [],
   "source": [
    "train_transforms = transforms.Compose([\n",
    "    transforms.RandomResizedCrop(size=(64, 64)),\n",
    "    transforms.RandomHorizontalFlip(p=0.5),\n",
    "    transforms.ToTensor()\n",
    "])\n",
    "\n",
    "test_transforms = transforms.Compose([\n",
    "    transforms.ToTensor()\n",
    "])"
   ],
   "metadata": {
    "collapsed": false,
    "ExecuteTime": {
     "end_time": "2024-03-20T13:17:36.666695300Z",
     "start_time": "2024-03-20T13:17:36.546969100Z"
    }
   },
   "id": "5d9d9436b8904b17"
  },
  {
   "cell_type": "code",
   "execution_count": 7,
   "outputs": [],
   "source": [
    "from torchvision.datasets import CIFAR10\n",
    "\n",
    "train_dataset = CIFAR10(root=\"../data/cifar10\", train=True, download=False, transform=train_transforms)\n",
    "test_dataset = CIFAR10(root=\"../data/cifar10\", train=False, download=False, transform=test_transforms)"
   ],
   "metadata": {
    "collapsed": false,
    "ExecuteTime": {
     "end_time": "2024-03-20T13:21:25.552492100Z",
     "start_time": "2024-03-20T13:21:24.517738800Z"
    }
   },
   "id": "613f8c05b9b433d1"
  },
  {
   "cell_type": "code",
   "execution_count": 9,
   "outputs": [
    {
     "data": {
      "text/plain": "(Dataset CIFAR10\n     Number of datapoints: 50000\n     Root location: ../data/cifar10\n     Split: Train\n     StandardTransform\n Transform: Compose(\n                RandomResizedCrop(size=(64, 64), scale=(0.08, 1.0), ratio=(0.75, 1.3333), interpolation=bilinear, antialias=True)\n                RandomHorizontalFlip(p=0.5)\n                ToTensor()\n            ),\n Dataset CIFAR10\n     Number of datapoints: 10000\n     Root location: ../data/cifar10\n     Split: Test\n     StandardTransform\n Transform: Compose(\n                ToTensor()\n            ))"
     },
     "execution_count": 9,
     "metadata": {},
     "output_type": "execute_result"
    }
   ],
   "source": [
    "train_dataset, test_dataset"
   ],
   "metadata": {
    "collapsed": false,
    "ExecuteTime": {
     "end_time": "2024-03-20T13:21:40.940064500Z",
     "start_time": "2024-03-20T13:21:40.814155800Z"
    }
   },
   "id": "855c8f67c2802ab4"
  },
  {
   "cell_type": "code",
   "execution_count": 17,
   "outputs": [
    {
     "name": "stdout",
     "output_type": "stream",
     "text": [
      "Number of workers: 16\n"
     ]
    },
    {
     "data": {
      "text/plain": "(<torch.utils.data.dataloader.DataLoader at 0x29b0897f250>,\n <torch.utils.data.dataloader.DataLoader at 0x29b0897cc50>)"
     },
     "execution_count": 17,
     "metadata": {},
     "output_type": "execute_result"
    }
   ],
   "source": [
    "import os\n",
    "\n",
    "BATCH_SIZE = 32\n",
    "NUM_WORKERS = os.cpu_count()\n",
    "\n",
    "print(f\"Number of workers: {NUM_WORKERS}\")\n",
    "\n",
    "train_dataloader = DataLoader(train_dataset, batch_size=128, shuffle=True, num_workers=NUM_WORKERS)\n",
    "test_dataloader = DataLoader(test_dataset, batch_size=100, shuffle=False, num_workers=NUM_WORKERS)\n",
    "\n",
    "train_dataloader, test_dataloader"
   ],
   "metadata": {
    "collapsed": false,
    "ExecuteTime": {
     "end_time": "2024-03-20T13:32:11.441015700Z",
     "start_time": "2024-03-20T13:32:11.319018700Z"
    }
   },
   "id": "4ea15ba338035f21"
  },
  {
   "cell_type": "code",
   "execution_count": 18,
   "outputs": [
    {
     "data": {
      "text/plain": "['airplane',\n 'automobile',\n 'bird',\n 'cat',\n 'deer',\n 'dog',\n 'frog',\n 'horse',\n 'ship',\n 'truck']"
     },
     "execution_count": 18,
     "metadata": {},
     "output_type": "execute_result"
    }
   ],
   "source": [
    "class_names = train_dataset.classes\n",
    "class_names"
   ],
   "metadata": {
    "collapsed": false,
    "ExecuteTime": {
     "end_time": "2024-03-20T13:32:16.739252100Z",
     "start_time": "2024-03-20T13:32:16.615775200Z"
    }
   },
   "id": "e6112332fa5db85d"
  },
  {
   "cell_type": "code",
   "execution_count": null,
   "outputs": [],
   "source": [],
   "metadata": {
    "collapsed": false
   },
   "id": "d91e0da57027cefc"
  }
 ],
 "metadata": {
  "kernelspec": {
   "display_name": "Python 3",
   "language": "python",
   "name": "python3"
  },
  "language_info": {
   "codemirror_mode": {
    "name": "ipython",
    "version": 2
   },
   "file_extension": ".py",
   "mimetype": "text/x-python",
   "name": "python",
   "nbconvert_exporter": "python",
   "pygments_lexer": "ipython2",
   "version": "2.7.6"
  }
 },
 "nbformat": 4,
 "nbformat_minor": 5
}
